{
  "nbformat": 4,
  "nbformat_minor": 0,
  "metadata": {
    "colab": {
      "name": "Queueing1.10",
      "provenance": [],
      "collapsed_sections": [
        "jA0DpyhiETnQ"
      ]
    },
    "kernelspec": {
      "name": "python3",
      "display_name": "Python 3"
    }
  },
  "cells": [
    {
      "cell_type": "markdown",
      "metadata": {
        "id": "S_o_tBVbDsoY"
      },
      "source": [
        "# Single Server Quying System\n",
        "## Problem 1.10"
      ]
    },
    {
      "cell_type": "markdown",
      "metadata": {
        "id": "jA0DpyhiETnQ"
      },
      "source": [
        "### Overall Project Architecture\n",
        "\n",
        "> ### Coding Paradigm\n",
        ">- [ ] OOP\n",
        "- [x] Functional\n",
        "- [ ] Scripting\n",
        "\n",
        "> ### Unit of time\n",
        ">- [X] Minutes\n",
        "\n",
        "> ### State of the server will be validated using boolean values\n",
        "\n",
        "> ### Randomness will be achieved using psedou random generator first and will be proceeded by adding the last generated randomnunmber to the curently generated number.\n",
        "\n",
        "> ### Values to be noted\n",
        ">- [x] Arrival Time = $t_{i}$ \n",
        "- [x] Inter arrival time = $A_{i}$ = $t_{i} - t_{i-1}$\n",
        "- [x] Waiting in queue = $W_{i}$ = \n",
        "- [x] Service time = $S_{i}$ = \n",
        "- [x] Completion(Departure) Time =  $D_{i}$ = \n",
        "\n",
        "### For the main code and 1.7 we'll not terminate the simulation until queue overflows or all customers has been served."
      ]
    },
    {
      "cell_type": "markdown",
      "metadata": {
        "id": "6Zz6jkEANbn-"
      },
      "source": [
        "### All Imports"
      ]
    },
    {
      "cell_type": "code",
      "metadata": {
        "id": "bt9WHRo2EDHA"
      },
      "source": [
        "import random\n",
        "from time import sleep"
      ],
      "execution_count": null,
      "outputs": []
    },
    {
      "cell_type": "markdown",
      "metadata": {
        "id": "s6xWTZp3WjCH"
      },
      "source": [
        "### Generating Arrival and Service Time, $t_{i}$ , $S_{i}$ "
      ]
    },
    {
      "cell_type": "code",
      "metadata": {
        "id": "7jFaKpfDNeF8"
      },
      "source": [
        "def generateArrivalAndServiceTime():\n",
        "    global arrivalTime,serviceTime\n",
        "    i = 0\n",
        "    # for i in range(0,10): part of original code\n",
        "    while True:\n",
        "        if i : \n",
        "            arrivalTimeTemp = random.randint(600,1800) + arrivalTime[i-1]\n",
        "            if arrivalTimeTemp >28800:\n",
        "                break\n",
        "        else: \n",
        "            arrivalTimeTemp = random.randint(600,1800)\n",
        "        # serviceTimeTemp = random.randint(6,10) part of original code\n",
        "        serviceTimeTemp = random.randint(1900,2200)\n",
        "\n",
        "        arrivalTime.append(arrivalTimeTemp)\n",
        "        serviceTime.append(serviceTimeTemp)\n",
        "        i+=1"
      ],
      "execution_count": null,
      "outputs": []
    },
    {
      "cell_type": "markdown",
      "metadata": {
        "id": "tjPDldaIPfdL"
      },
      "source": [
        "### Calculating Inter Arrival Time $A_{i}$"
      ]
    },
    {
      "cell_type": "code",
      "metadata": {
        "id": "QG27oLilN-dW"
      },
      "source": [
        "def calculateInterArrivalTime():\n",
        "    global arrivalTime\n",
        "    for i in range(len(arrivalTime)):\n",
        "        if i:\n",
        "            temp = arrivalTime[i] - arrivalTime[i-1] \n",
        "        else:\n",
        "            temp = arrivalTime[i]\n",
        "        # print(\"Inter Arrival time for \" +str(i+1) +\" event: \" + str(temp))"
      ],
      "execution_count": null,
      "outputs": []
    },
    {
      "cell_type": "markdown",
      "metadata": {
        "id": "70jTUqqlia9t"
      },
      "source": [
        "### Calculating Waiting Time"
      ]
    },
    {
      "cell_type": "code",
      "metadata": {
        "id": "qm57vgkmioig"
      },
      "source": [
        "def calculateWaitingTime(i):\n",
        "    # global queue\n",
        "    global waitingTime,serverIsBusy,completionTime,arrivalTime\n",
        "\n",
        "    if serverIsBusy:\n",
        "        waitingTime.append(completionTime[i-1]-arrivalTime[i])\n",
        "        \n",
        "    else:\n",
        "        waitingTime.append(0)\n",
        "        serverIsBusy=True"
      ],
      "execution_count": null,
      "outputs": []
    },
    {
      "cell_type": "markdown",
      "metadata": {
        "id": "4adUpjtOiffa"
      },
      "source": [
        "### Calculating Completion Time"
      ]
    },
    {
      "cell_type": "code",
      "metadata": {
        "id": "NPLRd-NHiuid"
      },
      "source": [
        "def calculateCompletionTime(i):\n",
        "    global completionTime,waitingTime,arrivalTime\n",
        "\n",
        "    completionTime.append(arrivalTime[i]+serviceTime[i]+waitingTime[i])\n",
        "    # printEventDetails(i)\n",
        "    # print(str(completionTime[i])+\" , completion time\\n\")"
      ],
      "execution_count": null,
      "outputs": []
    },
    {
      "cell_type": "markdown",
      "metadata": {
        "id": "tv-PtAVB3u0H"
      },
      "source": [
        "## Print Details"
      ]
    },
    {
      "cell_type": "code",
      "metadata": {
        "id": "MN3oD6zx34Ya"
      },
      "source": [
        "def printEventDetails(i):\n",
        "    global arrivalTime,serviceTime,waitingTime,completionTime\n",
        "    print(\"\\nArrival Time:\" + str(arrivalTime[i]) +\"\\n Service Time: \" + str(serviceTime[i]) +\"\\n Waiting Time:\" +str(waitingTime[i])+\"\\nCompletion time: \" +str(completionTime[i]))\n"
      ],
      "execution_count": null,
      "outputs": []
    },
    {
      "cell_type": "markdown",
      "metadata": {
        "id": "i7C7RNDs1gsE"
      },
      "source": [
        "## Calculations"
      ]
    },
    {
      "cell_type": "code",
      "metadata": {
        "id": "fZ2iDsAH1vga"
      },
      "source": [
        "def Calculations():\n",
        "    global serverIsBusy,arrivalTime,serviceTime,waitingTime,completionTime\n",
        "    generateArrivalAndServiceTime()\n",
        "    \n",
        "    calculateInterArrivalTime()\n",
        "    for i in range(len(arrivalTime)):\n",
        "        calculateWaitingTime(i)\n",
        "        calculateCompletionTime(i)\n",
        "    serverIsBusy=False  "
      ],
      "execution_count": null,
      "outputs": []
    },
    {
      "cell_type": "markdown",
      "metadata": {
        "id": "qH-_wf0U9JGP"
      },
      "source": [
        "# Simulation"
      ]
    },
    {
      "cell_type": "code",
      "metadata": {
        "id": "6WpisICL9OtD"
      },
      "source": [
        "def simulateSingleServerQueuingSystem():\n",
        "\n",
        "    global completionTime,arrivalTime,clock,queue,event,serverIsBusy,custInQueue,timeAvgNumInSys,avgTtlTimeInSys\n",
        "    global maxQueueLen, waitingTime\n",
        "\n",
        "    currentArrival=0\n",
        "    inServer = 1\n",
        "    print(\"Clock \\t Event \\t Status \\t i \\t ti \\t Ci \\tQPopulation \\t\\t State\")\n",
        "    print(str(0)+\" \\t \"+str(0)+\" \\t \"+\"Start\"+\" \\t\\t \"+\"--\"+\" \\t \"+\"--\"+\"\\t\"+\"--\"+\" \\t \"+str(0)+\" \\t\\t\\t \"+\"Idle\")\n",
        "\n",
        "    # while clock is not 60 and queue <= 10: part of original code\n",
        "    # while queue <= 10: part of original code\n",
        "    while True:\n",
        "\n",
        "        sleep(0.001) # Change the value later on\n",
        "\n",
        "        if maxQueueLen<queue: maxQueueLen=queue\n",
        "\n",
        "        if clock in arrivalTime:\n",
        "            custInQueue+=queue # calculating summation of customers in queue.\n",
        "            event+=1\n",
        "            currentArrival+=1\n",
        "            if serverIsBusy == False:\n",
        "                serverIsBusy=True\n",
        "            else:\n",
        "                queue+=1\n",
        "            generateReport(\"arrival\",currentArrival-1)\n",
        "        \n",
        "        if clock in completionTime:\n",
        "            custInQueue+=queue # calculating summation of customers in queue.\n",
        "            event+=1\n",
        "            if queue ==0:\n",
        "                serverIsBusy = False\n",
        "                generateReport(\"completion\",inServer-1)  \n",
        "                break\n",
        "\n",
        "            else:\n",
        "                queue-=1\n",
        "                generateReport(\"completion\",inServer-1)  \n",
        "                inServer +=1\n",
        "\n",
        "        clock+=1\n",
        "    print(\"\\nSimulation End\") if queue != 11 else print(\"Error: Queue is full\") \n",
        "\n",
        "    calculationsFor1Dot7(custInQueue,event,completionTime,arrivalTime,maxQueueLen,waitingTime)\n"
      ],
      "execution_count": null,
      "outputs": []
    },
    {
      "cell_type": "markdown",
      "metadata": {
        "id": "qLSKtkJh2Dmh"
      },
      "source": [
        "# Calculations For 1.7"
      ]
    },
    {
      "cell_type": "code",
      "metadata": {
        "id": "3Mty-awv2IGu"
      },
      "source": [
        "def calculationsFor1Dot7(custInQueue,event,completionTime,arrivalTime,maxQueueLen,waitingTime):\n",
        "    timeAvgNumInSys = (custInQueue+(event-1))/event#                            part a 1.7             \n",
        "    avgTtlTimeInSys = (sum(completionTime)-sum(arrivalTime))/len(arrivalTime)#  part b 1.7\n",
        "    print(\"a) The Time-Average number in the sysytem: \"+str(timeAvgNumInSys))\n",
        "    print(\"b) The Average total time in the system: \"+str(avgTtlTimeInSys))\n",
        "    print(\"c) The Max queue length : \"+str(maxQueueLen))#                       part c 1.7                        \n",
        "    print(\"d) The Max delay in queue: \"+str(max(waitingTime)))#                 part d 1.7\n",
        "    #********** calculation for                                                 part e 1.7\n",
        "    tmpLstHldngDiffOfCmpNdArvlTm = []\n",
        "    for i in range(len(arrivalTime)):\n",
        "        tmpLstHldngDiffOfCmpNdArvlTm.append(completionTime[i]-arrivalTime[i])\n",
        "    print(\"e) The Max time in the system: \"+str(max(tmpLstHldngDiffOfCmpNdArvlTm)))\n",
        "    #**********                                                            end  part e 1.7\n",
        "    #********** calculation for \n",
        "    countForExWaiters=0#                                                         part f 1.7\n",
        "    for waiter in waitingTime:\n",
        "        if waiter>60:\n",
        "            countForExWaiters+=1\n",
        "    print(\"f) The proportion of customers having a delay in queue in excess of 1 minute: \"+str(countForExWaiters)+\" : \"+str(len(arrivalTime)))\n",
        "    #********** calculation for                                              end    part f 1.7\n",
        "\n"
      ],
      "execution_count": null,
      "outputs": []
    },
    {
      "cell_type": "markdown",
      "metadata": {
        "id": "luwv49Em93zh"
      },
      "source": [
        "# Report Generation"
      ]
    },
    {
      "cell_type": "code",
      "metadata": {
        "id": "n3JoZJQN97rq"
      },
      "source": [
        "def generateReport(status,i):\n",
        "    global event,clock,arrivalTime,completionTime,queue,serverIsBusy\n",
        "    if status==\"arrival\":\n",
        "        print(str(clock)+\" \\t \"+str(event)+\" \\t \"+str(status)+\" \\t \"+str(i+1)+\" \\t \"+str(arrivalTime[i])+\"\\t\"+\"--\"+\" \\t \"+str(queue)+\" \\t\\t\\t \"+str(\"Busy\" if serverIsBusy else \"Idle\"))\n",
        "\n",
        "    else:\n",
        "        print(str(clock)+\" \\t \"+str(event)+\" \\t \"+str(status)+\" \\t \"+str(i+1)+\" \\t \"+\"--\\t\"+str(completionTime[i])+\" \\t \"+str(queue)+\" \\t\\t\\t \"+str(\"Busy\" if serverIsBusy else \"Idle\"))\n",
        "\n",
        "    # Clock Event Status i ti Ci QueuePopulation state\n",
        "\n",
        "    pass"
      ],
      "execution_count": null,
      "outputs": []
    },
    {
      "cell_type": "markdown",
      "metadata": {
        "id": "cvnWryL9WYhv"
      },
      "source": [
        "## Main Execution"
      ]
    },
    {
      "cell_type": "code",
      "metadata": {
        "id": "QRehhhVORmmW",
        "colab": {
          "base_uri": "https://localhost:8080/"
        },
        "outputId": "d824eca3-fd3b-4e30-94fe-9a09beaba067"
      },
      "source": [
        "if __name__ == \"__main__\":\n",
        "    arrivalTime=[]                  #\n",
        "    serviceTime=[]                  #\n",
        "    serverIsBusy = False            #   GLOBAL VARIABLES\n",
        "    waitingTime=[]                  #\n",
        "    completionTime=[]               #\n",
        "    Calculations()\n",
        "\n",
        "    clock = 0\n",
        "    queue = 0 #count of waiting entities\n",
        "    event = 0\n",
        "\n",
        "    custInQueue = 0 # ,                                                         part a                                      \n",
        "    timeAvgNumInSys = 0 # (custInQueue + event -1)/event                        part a\n",
        "    avgTtlTimeInSys = 0 #  sum(Ci-Ti)/num                                       part b\n",
        "    maxQueueLen = 0#                                                            part c\n",
        "    \n",
        "\n",
        "\n",
        "    simulateSingleServerQueuingSystem()\n",
        "\n",
        "    # ====================== Simulation End ===================="
      ],
      "execution_count": null,
      "outputs": [
        {
          "output_type": "stream",
          "text": [
            "Clock \t Event \t Status \t i \t ti \t Ci \tQPopulation \t\t State\n",
            "0 \t 0 \t Start \t\t -- \t --\t-- \t 0 \t\t\t Idle\n",
            "958 \t 1 \t arrival \t 1 \t 958\t-- \t 0 \t\t\t Busy\n",
            "1907 \t 2 \t arrival \t 2 \t 1907\t-- \t 1 \t\t\t Busy\n",
            "3023 \t 3 \t completion \t 1 \t --\t3023 \t 0 \t\t\t Busy\n",
            "3286 \t 4 \t arrival \t 3 \t 3286\t-- \t 1 \t\t\t Busy\n",
            "4879 \t 5 \t arrival \t 4 \t 4879\t-- \t 2 \t\t\t Busy\n",
            "4962 \t 6 \t completion \t 2 \t --\t4962 \t 1 \t\t\t Busy\n",
            "5857 \t 7 \t arrival \t 5 \t 5857\t-- \t 2 \t\t\t Busy\n",
            "6996 \t 8 \t completion \t 3 \t --\t6996 \t 1 \t\t\t Busy\n",
            "7460 \t 9 \t arrival \t 6 \t 7460\t-- \t 2 \t\t\t Busy\n",
            "8658 \t 10 \t arrival \t 7 \t 8658\t-- \t 3 \t\t\t Busy\n",
            "8962 \t 11 \t completion \t 4 \t --\t8962 \t 2 \t\t\t Busy\n",
            "9657 \t 12 \t arrival \t 8 \t 9657\t-- \t 3 \t\t\t Busy\n",
            "10751 \t 13 \t arrival \t 9 \t 10751\t-- \t 4 \t\t\t Busy\n",
            "11010 \t 14 \t completion \t 5 \t --\t11010 \t 3 \t\t\t Busy\n",
            "12018 \t 15 \t arrival \t 10 \t 12018\t-- \t 4 \t\t\t Busy\n",
            "13136 \t 16 \t completion \t 6 \t --\t13136 \t 3 \t\t\t Busy\n",
            "13350 \t 17 \t arrival \t 11 \t 13350\t-- \t 4 \t\t\t Busy\n",
            "14897 \t 18 \t arrival \t 12 \t 14897\t-- \t 5 \t\t\t Busy\n",
            "15262 \t 19 \t completion \t 7 \t --\t15262 \t 4 \t\t\t Busy\n",
            "15676 \t 20 \t arrival \t 13 \t 15676\t-- \t 5 \t\t\t Busy\n",
            "17250 \t 21 \t completion \t 8 \t --\t17250 \t 4 \t\t\t Busy\n",
            "17267 \t 22 \t arrival \t 14 \t 17267\t-- \t 5 \t\t\t Busy\n",
            "18529 \t 23 \t arrival \t 15 \t 18529\t-- \t 6 \t\t\t Busy\n",
            "19413 \t 24 \t completion \t 9 \t --\t19413 \t 5 \t\t\t Busy\n",
            "20011 \t 25 \t arrival \t 16 \t 20011\t-- \t 6 \t\t\t Busy\n",
            "20643 \t 26 \t arrival \t 17 \t 20643\t-- \t 7 \t\t\t Busy\n",
            "21283 \t 27 \t arrival \t 18 \t 21283\t-- \t 8 \t\t\t Busy\n",
            "21557 \t 28 \t completion \t 10 \t --\t21557 \t 7 \t\t\t Busy\n",
            "22088 \t 29 \t arrival \t 19 \t 22088\t-- \t 8 \t\t\t Busy\n",
            "23453 \t 30 \t arrival \t 20 \t 23453\t-- \t 9 \t\t\t Busy\n",
            "23578 \t 31 \t completion \t 11 \t --\t23578 \t 8 \t\t\t Busy\n",
            "25182 \t 32 \t arrival \t 21 \t 25182\t-- \t 9 \t\t\t Busy\n",
            "25772 \t 33 \t completion \t 12 \t --\t25772 \t 8 \t\t\t Busy\n",
            "26080 \t 34 \t arrival \t 22 \t 26080\t-- \t 9 \t\t\t Busy\n",
            "27730 \t 35 \t arrival \t 23 \t 27730\t-- \t 10 \t\t\t Busy\n",
            "27859 \t 36 \t completion \t 13 \t --\t27859 \t 9 \t\t\t Busy\n",
            "28332 \t 37 \t arrival \t 24 \t 28332\t-- \t 10 \t\t\t Busy\n",
            "29769 \t 38 \t completion \t 14 \t --\t29769 \t 9 \t\t\t Busy\n",
            "31865 \t 39 \t completion \t 15 \t --\t31865 \t 8 \t\t\t Busy\n",
            "33787 \t 40 \t completion \t 16 \t --\t33787 \t 7 \t\t\t Busy\n",
            "35905 \t 41 \t completion \t 17 \t --\t35905 \t 6 \t\t\t Busy\n",
            "37977 \t 42 \t completion \t 18 \t --\t37977 \t 5 \t\t\t Busy\n",
            "39898 \t 43 \t completion \t 19 \t --\t39898 \t 4 \t\t\t Busy\n",
            "41906 \t 44 \t completion \t 20 \t --\t41906 \t 3 \t\t\t Busy\n",
            "43955 \t 45 \t completion \t 21 \t --\t43955 \t 2 \t\t\t Busy\n",
            "45927 \t 46 \t completion \t 22 \t --\t45927 \t 1 \t\t\t Busy\n",
            "47873 \t 47 \t completion \t 23 \t --\t47873 \t 0 \t\t\t Busy\n",
            "50013 \t 48 \t completion \t 24 \t --\t50013 \t 0 \t\t\t Idle\n",
            "\n",
            "Simulation End\n",
            "a) The Time-Average number in the sysytem: 5.625\n",
            "b) The Average total time in the system: 11570.958333333334\n",
            "c) The Max queue length : 10\n",
            "d) The Max delay in queue: 19541\n",
            "e) The Max time in the system: 21681\n",
            "f) The proportion of customers having a delay in queue in excess of 1 minute: 23 : 24\n"
          ],
          "name": "stdout"
        }
      ]
    },
    {
      "cell_type": "code",
      "metadata": {
        "id": "XK1hXY3Im3pc"
      },
      "source": [
        ""
      ],
      "execution_count": null,
      "outputs": []
    }
  ]
}