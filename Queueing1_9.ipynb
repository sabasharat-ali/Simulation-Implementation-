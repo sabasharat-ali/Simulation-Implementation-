{
  "nbformat": 4,
  "nbformat_minor": 0,
  "metadata": {
    "colab": {
      "name": "Queueing1.9",
      "provenance": [],
      "collapsed_sections": [
        "jA0DpyhiETnQ"
      ]
    },
    "kernelspec": {
      "name": "python3",
      "display_name": "Python 3"
    }
  },
  "cells": [
    {
      "cell_type": "markdown",
      "metadata": {
        "id": "S_o_tBVbDsoY"
      },
      "source": [
        "# Single Server Quying System\n",
        "## Problem 1.9"
      ]
    },
    {
      "cell_type": "markdown",
      "metadata": {
        "id": "jA0DpyhiETnQ"
      },
      "source": [
        "### Overall Project Architecture\n",
        "\n",
        "> ### Coding Paradigm\n",
        ">- [ ] OOP\n",
        "- [x] Functional\n",
        "- [ ] Scripting\n",
        "\n",
        "> ### Unit of time\n",
        ">- [X] Minutes\n",
        "\n",
        "> ### State of the server will be validated using boolean values\n",
        "\n",
        "> ### Randomness will be achieved using psedou random generator first and will be proceeded by adding the last generated randomnunmber to the curently generated number.\n",
        "\n",
        "> ### Values to be noted\n",
        ">- [x] Arrival Time = $t_{i}$ \n",
        "- [x] Inter arrival time = $A_{i}$ = $t_{i} - t_{i-1}$\n",
        "- [x] Waiting in queue = $W_{i}$ = \n",
        "- [x] Service time = $S_{i}$ = \n",
        "- [x] Completion(Departure) Time =  $D_{i}$ = \n",
        "\n",
        "### For the main code and 1.7 we'll not terminate the simulation until queue overflows or all customers has been served."
      ]
    },
    {
      "cell_type": "markdown",
      "metadata": {
        "id": "6Zz6jkEANbn-"
      },
      "source": [
        "### All Imports"
      ]
    },
    {
      "cell_type": "code",
      "metadata": {
        "id": "bt9WHRo2EDHA"
      },
      "source": [
        "import random\n",
        "from time import sleep"
      ],
      "execution_count": null,
      "outputs": []
    },
    {
      "cell_type": "markdown",
      "metadata": {
        "id": "s6xWTZp3WjCH"
      },
      "source": [
        "### Generating Arrival and Service Time, $t_{i}$ , $S_{i}$ "
      ]
    },
    {
      "cell_type": "code",
      "metadata": {
        "id": "7jFaKpfDNeF8"
      },
      "source": [
        "def generateArrivalAndServiceTime():\n",
        "    global arrivalTime,serviceTime\n",
        "    for i in range(0,10):\n",
        "        if i : \n",
        "            arrivalTimeTemp = random.randint(1,5) + arrivalTime[i-1]\n",
        "        else: \n",
        "            arrivalTimeTemp = random.randint(1,5)\n",
        "        # serviceTimeTemp = random.randint(6,10) part of original code\n",
        "        serviceTimeTemp = random.randint(6,20)\n",
        "\n",
        "        arrivalTime.append(arrivalTimeTemp)\n",
        "        serviceTime.append(serviceTimeTemp)"
      ],
      "execution_count": null,
      "outputs": []
    },
    {
      "cell_type": "markdown",
      "metadata": {
        "id": "tjPDldaIPfdL"
      },
      "source": [
        "### Calculating Inter Arrival Time $A_{i}$"
      ]
    },
    {
      "cell_type": "code",
      "metadata": {
        "id": "QG27oLilN-dW"
      },
      "source": [
        "def calculateInterArrivalTime():\n",
        "    global arrivalTime\n",
        "    for i in range(len(arrivalTime)):\n",
        "        if i:\n",
        "            temp = arrivalTime[i] - arrivalTime[i-1] \n",
        "        else:\n",
        "            temp = arrivalTime[i]\n",
        "        # print(\"Inter Arrival time for \" +str(i+1) +\" event: \" + str(temp))"
      ],
      "execution_count": null,
      "outputs": []
    },
    {
      "cell_type": "markdown",
      "metadata": {
        "id": "70jTUqqlia9t"
      },
      "source": [
        "### Calculating Waiting Time"
      ]
    },
    {
      "cell_type": "code",
      "metadata": {
        "id": "qm57vgkmioig"
      },
      "source": [
        "def calculateWaitingTime(i):\n",
        "    # global queue\n",
        "    global waitingTime,serverIsBusy,completionTime,arrivalTime\n",
        "\n",
        "    if serverIsBusy:\n",
        "        waitingTime.append(completionTime[i-1]-arrivalTime[i])\n",
        "        \n",
        "    else:\n",
        "        waitingTime.append(0)\n",
        "        serverIsBusy=True"
      ],
      "execution_count": null,
      "outputs": []
    },
    {
      "cell_type": "markdown",
      "metadata": {
        "id": "4adUpjtOiffa"
      },
      "source": [
        "### Calculating Completion Time"
      ]
    },
    {
      "cell_type": "code",
      "metadata": {
        "id": "NPLRd-NHiuid"
      },
      "source": [
        "def calculateCompletionTime(i):\n",
        "    global completionTime,waitingTime,arrivalTime\n",
        "\n",
        "    completionTime.append(arrivalTime[i]+serviceTime[i]+waitingTime[i])\n",
        "    # printEventDetails(i)\n",
        "    # print(str(completionTime[i])+\" , completion time\\n\")"
      ],
      "execution_count": null,
      "outputs": []
    },
    {
      "cell_type": "markdown",
      "metadata": {
        "id": "tv-PtAVB3u0H"
      },
      "source": [
        "## Print Details"
      ]
    },
    {
      "cell_type": "code",
      "metadata": {
        "id": "MN3oD6zx34Ya"
      },
      "source": [
        "def printEventDetails(i):\n",
        "    global arrivalTime,serviceTime,waitingTime,completionTime\n",
        "    print(\"\\nArrival Time:\" + str(arrivalTime[i]) +\"\\n Service Time: \" + str(serviceTime[i]) +\"\\n Waiting Time:\" +str(waitingTime[i])+\"\\nCompletion time: \" +str(completionTime[i]))\n"
      ],
      "execution_count": null,
      "outputs": []
    },
    {
      "cell_type": "markdown",
      "metadata": {
        "id": "i7C7RNDs1gsE"
      },
      "source": [
        "## Calculations"
      ]
    },
    {
      "cell_type": "code",
      "metadata": {
        "id": "fZ2iDsAH1vga"
      },
      "source": [
        "def Calculations():\n",
        "    global serverIsBusy,arrivalTime,serviceTime,waitingTime,completionTime\n",
        "    generateArrivalAndServiceTime()\n",
        "    \n",
        "    calculateInterArrivalTime()\n",
        "    for i in range(len(arrivalTime)):\n",
        "        calculateWaitingTime(i)\n",
        "        calculateCompletionTime(i)\n",
        "    serverIsBusy=False  "
      ],
      "execution_count": null,
      "outputs": []
    },
    {
      "cell_type": "markdown",
      "metadata": {
        "id": "qH-_wf0U9JGP"
      },
      "source": [
        "# Simulation"
      ]
    },
    {
      "cell_type": "code",
      "metadata": {
        "id": "6WpisICL9OtD"
      },
      "source": [
        "def simulateSingleServerQueuingSystem():\n",
        "\n",
        "    global completionTime,arrivalTime,clock,queue,event,serverIsBusy,custInQueue,timeAvgNumInSys,avgTtlTimeInSys\n",
        "    global maxQueueLen, waitingTime\n",
        "\n",
        "    currentArrival=0\n",
        "    inServer = 1\n",
        "    print(\"Clock \\t Event \\t Status \\t i \\t ti \\t Ci \\tQPopulation \\t\\t State\")\n",
        "    print(str(0)+\" \\t \"+str(0)+\" \\t \"+\"Start\"+\" \\t\\t \"+\"--\"+\" \\t \"+\"--\"+\"\\t\"+\"--\"+\" \\t \"+str(0)+\" \\t\\t\\t \"+\"Idle\")\n",
        "\n",
        "    # while clock is not 60 and queue <= 10: part of original code\n",
        "    while queue <= 10:\n",
        "\n",
        "        sleep(0.05) # Change the value later on\n",
        "\n",
        "        if maxQueueLen<queue: maxQueueLen=queue\n",
        "\n",
        "        if clock in arrivalTime:\n",
        "            custInQueue+=queue # calculating summation of customers in queue.\n",
        "            event+=1\n",
        "            currentArrival+=1\n",
        "            if serverIsBusy == False:\n",
        "                serverIsBusy=True\n",
        "            else:\n",
        "                queue+=1\n",
        "            generateReport(\"arrival\",currentArrival-1)\n",
        "        \n",
        "        if clock in completionTime:\n",
        "            custInQueue+=queue # calculating summation of customers in queue.\n",
        "            event+=1\n",
        "            if queue ==0:\n",
        "                serverIsBusy = False\n",
        "                generateReport(\"completion\",inServer-1)  \n",
        "                break\n",
        "\n",
        "            else:\n",
        "                queue-=1\n",
        "                generateReport(\"completion\",inServer-1)  \n",
        "                inServer +=1\n",
        "\n",
        "        clock+=1\n",
        "    print(\"\\nSimulation End\") if queue != 11 else print(\"Error: Queue is full\") \n",
        "\n",
        "    calculationsFor1Dot7(custInQueue,event,completionTime,arrivalTime,maxQueueLen,waitingTime)\n"
      ],
      "execution_count": null,
      "outputs": []
    },
    {
      "cell_type": "markdown",
      "metadata": {
        "id": "qLSKtkJh2Dmh"
      },
      "source": [
        "# Calculations For 1.7"
      ]
    },
    {
      "cell_type": "code",
      "metadata": {
        "id": "3Mty-awv2IGu"
      },
      "source": [
        "def calculationsFor1Dot7(custInQueue,event,completionTime,arrivalTime,maxQueueLen,waitingTime):\n",
        "    timeAvgNumInSys = (custInQueue+(event-1))/event#                            part a 1.7             \n",
        "    avgTtlTimeInSys = (sum(completionTime)-sum(arrivalTime))/len(arrivalTime)#  part b 1.7\n",
        "    print(\"a) The Time-Average number in the sysytem: \"+str(timeAvgNumInSys))\n",
        "    print(\"b) The Average total time in the system: \"+str(avgTtlTimeInSys))\n",
        "    print(\"c) The Max queue length : \"+str(maxQueueLen))#                       part c 1.7                        \n",
        "    print(\"d) The Max delay in queue: \"+str(max(waitingTime)))#                 part d 1.7\n",
        "    #********** calculation for                                                 part e 1.7\n",
        "    tmpLstHldngDiffOfCmpNdArvlTm = []\n",
        "    for i in range(len(arrivalTime)):\n",
        "        tmpLstHldngDiffOfCmpNdArvlTm.append(completionTime[i]-arrivalTime[i])\n",
        "    print(\"e) The Max time in the system: \"+str(max(tmpLstHldngDiffOfCmpNdArvlTm)))\n",
        "    #**********                                                            end  part e 1.7\n",
        "    #********** calculation for \n",
        "    countForExWaiters=0#                                                         part f 1.7\n",
        "    for waiter in waitingTime:\n",
        "        if waiter>60:\n",
        "            countForExWaiters+=1\n",
        "    print(\"f) The proportion of customers having a delay in queue in excess of 1 minute: \"+str(countForExWaiters)+\" : \"+str(len(arrivalTime)))\n",
        "    #********** calculation for                                              end    part f 1.7\n",
        "\n"
      ],
      "execution_count": null,
      "outputs": []
    },
    {
      "cell_type": "markdown",
      "metadata": {
        "id": "luwv49Em93zh"
      },
      "source": [
        "# Report Generation"
      ]
    },
    {
      "cell_type": "code",
      "metadata": {
        "id": "n3JoZJQN97rq"
      },
      "source": [
        "def generateReport(status,i):\n",
        "    global event,clock,arrivalTime,completionTime,queue,serverIsBusy\n",
        "    if status==\"arrival\":\n",
        "        print(str(clock)+\" \\t \"+str(event)+\" \\t \"+str(status)+\" \\t \"+str(i+1)+\" \\t \"+str(arrivalTime[i])+\"\\t\"+\"--\"+\" \\t \"+str(queue)+\" \\t\\t\\t \"+str(\"Busy\" if serverIsBusy else \"Idle\"))\n",
        "\n",
        "    else:\n",
        "        print(str(clock)+\" \\t \"+str(event)+\" \\t \"+str(status)+\" \\t \"+str(i+1)+\" \\t \"+\"--\\t\"+str(completionTime[i])+\" \\t \"+str(queue)+\" \\t\\t\\t \"+str(\"Busy\" if serverIsBusy else \"Idle\"))\n",
        "\n",
        "    # Clock Event Status i ti Ci QueuePopulation state\n",
        "\n",
        "    pass"
      ],
      "execution_count": null,
      "outputs": []
    },
    {
      "cell_type": "markdown",
      "metadata": {
        "id": "cvnWryL9WYhv"
      },
      "source": [
        "## Main Execution"
      ]
    },
    {
      "cell_type": "code",
      "metadata": {
        "id": "QRehhhVORmmW",
        "colab": {
          "base_uri": "https://localhost:8080/"
        },
        "outputId": "e1827e4b-1ff8-4acb-cda9-3e4c5a39dfe6"
      },
      "source": [
        "if __name__ == \"__main__\":\n",
        "    # arrivalTime,serviceTime,serverIsBusy,waitingTime,completionTime\n",
        "\n",
        "    for i in range(1,11):# Looping 10 times as required in Problem 1.9\n",
        "        print(\"\\n Simulation : \"+str(i))\n",
        "        arrivalTime=[]                  #\n",
        "        serviceTime=[]                  #\n",
        "        serverIsBusy = False            #   GLOBAL VARIABLES\n",
        "        waitingTime=[]                  #\n",
        "        completionTime=[]               #\n",
        "        Calculations()\n",
        "\n",
        "        clock = 0\n",
        "        queue = 0 #count of waiting entities\n",
        "        event = 0\n",
        "\n",
        "        custInQueue = 0 # ,                                                         part a                                      \n",
        "        timeAvgNumInSys = 0 # (custInQueue + event -1)/event                        part a\n",
        "        avgTtlTimeInSys = 0 #  sum(Ci-Ti)/num                                       part b\n",
        "        maxQueueLen = 0#                                                            part c\n",
        "        \n",
        "\n",
        "\n",
        "        simulateSingleServerQueuingSystem()\n",
        "\n",
        "        # ====================== Simulation End ===================="
      ],
      "execution_count": null,
      "outputs": [
        {
          "output_type": "stream",
          "text": [
            "\n",
            " Simulation : 1\n",
            "Clock \t Event \t Status \t i \t ti \t Ci \tQPopulation \t\t State\n",
            "0 \t 0 \t Start \t\t -- \t --\t-- \t 0 \t\t\t Idle\n",
            "3 \t 1 \t arrival \t 1 \t 3\t-- \t 0 \t\t\t Busy\n",
            "6 \t 2 \t arrival \t 2 \t 6\t-- \t 1 \t\t\t Busy\n",
            "10 \t 3 \t arrival \t 3 \t 10\t-- \t 2 \t\t\t Busy\n",
            "12 \t 4 \t arrival \t 4 \t 12\t-- \t 3 \t\t\t Busy\n",
            "15 \t 5 \t completion \t 1 \t --\t15 \t 2 \t\t\t Busy\n",
            "16 \t 6 \t arrival \t 5 \t 16\t-- \t 3 \t\t\t Busy\n",
            "18 \t 7 \t arrival \t 6 \t 18\t-- \t 4 \t\t\t Busy\n",
            "21 \t 8 \t arrival \t 7 \t 21\t-- \t 5 \t\t\t Busy\n",
            "22 \t 9 \t arrival \t 8 \t 22\t-- \t 6 \t\t\t Busy\n",
            "22 \t 10 \t completion \t 2 \t --\t22 \t 5 \t\t\t Busy\n",
            "24 \t 11 \t arrival \t 9 \t 24\t-- \t 6 \t\t\t Busy\n",
            "27 \t 12 \t arrival \t 10 \t 27\t-- \t 7 \t\t\t Busy\n",
            "30 \t 13 \t completion \t 3 \t --\t30 \t 6 \t\t\t Busy\n",
            "45 \t 14 \t completion \t 4 \t --\t45 \t 5 \t\t\t Busy\n",
            "52 \t 15 \t completion \t 5 \t --\t52 \t 4 \t\t\t Busy\n",
            "67 \t 16 \t completion \t 6 \t --\t67 \t 3 \t\t\t Busy\n",
            "81 \t 17 \t completion \t 7 \t --\t81 \t 2 \t\t\t Busy\n",
            "95 \t 18 \t completion \t 8 \t --\t95 \t 1 \t\t\t Busy\n",
            "113 \t 19 \t completion \t 9 \t --\t113 \t 0 \t\t\t Busy\n",
            "130 \t 20 \t completion \t 10 \t --\t130 \t 0 \t\t\t Idle\n",
            "\n",
            "Simulation End\n",
            "a) The Time-Average number in the sysytem: 4.2\n",
            "b) The Average total time in the system: 49.1\n",
            "c) The Max queue length : 7\n",
            "d) The Max delay in queue: 86\n",
            "e) The Max time in the system: 103\n",
            "f) The proportion of customers having a delay in queue in excess of 1 minute: 2 : 10\n",
            "\n",
            " Simulation : 2\n",
            "Clock \t Event \t Status \t i \t ti \t Ci \tQPopulation \t\t State\n",
            "0 \t 0 \t Start \t\t -- \t --\t-- \t 0 \t\t\t Idle\n",
            "2 \t 1 \t arrival \t 1 \t 2\t-- \t 0 \t\t\t Busy\n",
            "4 \t 2 \t arrival \t 2 \t 4\t-- \t 1 \t\t\t Busy\n",
            "9 \t 3 \t arrival \t 3 \t 9\t-- \t 2 \t\t\t Busy\n",
            "11 \t 4 \t arrival \t 4 \t 11\t-- \t 3 \t\t\t Busy\n",
            "12 \t 5 \t completion \t 1 \t --\t12 \t 2 \t\t\t Busy\n",
            "16 \t 6 \t arrival \t 5 \t 16\t-- \t 3 \t\t\t Busy\n",
            "20 \t 7 \t arrival \t 6 \t 20\t-- \t 4 \t\t\t Busy\n",
            "21 \t 8 \t arrival \t 7 \t 21\t-- \t 5 \t\t\t Busy\n",
            "24 \t 9 \t arrival \t 8 \t 24\t-- \t 6 \t\t\t Busy\n",
            "24 \t 10 \t completion \t 2 \t --\t24 \t 5 \t\t\t Busy\n",
            "26 \t 11 \t arrival \t 9 \t 26\t-- \t 6 \t\t\t Busy\n",
            "29 \t 12 \t arrival \t 10 \t 29\t-- \t 7 \t\t\t Busy\n",
            "41 \t 13 \t completion \t 3 \t --\t41 \t 6 \t\t\t Busy\n",
            "48 \t 14 \t completion \t 4 \t --\t48 \t 5 \t\t\t Busy\n",
            "57 \t 15 \t completion \t 5 \t --\t57 \t 4 \t\t\t Busy\n",
            "76 \t 16 \t completion \t 6 \t --\t76 \t 3 \t\t\t Busy\n",
            "91 \t 17 \t completion \t 7 \t --\t91 \t 2 \t\t\t Busy\n",
            "101 \t 18 \t completion \t 8 \t --\t101 \t 1 \t\t\t Busy\n",
            "109 \t 19 \t completion \t 9 \t --\t109 \t 0 \t\t\t Busy\n",
            "129 \t 20 \t completion \t 10 \t --\t129 \t 0 \t\t\t Idle\n",
            "\n",
            "Simulation End\n",
            "a) The Time-Average number in the sysytem: 4.2\n",
            "b) The Average total time in the system: 52.6\n",
            "c) The Max queue length : 7\n",
            "d) The Max delay in queue: 80\n",
            "e) The Max time in the system: 100\n",
            "f) The proportion of customers having a delay in queue in excess of 1 minute: 3 : 10\n",
            "\n",
            " Simulation : 3\n",
            "Clock \t Event \t Status \t i \t ti \t Ci \tQPopulation \t\t State\n",
            "0 \t 0 \t Start \t\t -- \t --\t-- \t 0 \t\t\t Idle\n",
            "1 \t 1 \t arrival \t 1 \t 1\t-- \t 0 \t\t\t Busy\n",
            "4 \t 2 \t arrival \t 2 \t 4\t-- \t 1 \t\t\t Busy\n",
            "8 \t 3 \t arrival \t 3 \t 8\t-- \t 2 \t\t\t Busy\n",
            "11 \t 4 \t arrival \t 4 \t 11\t-- \t 3 \t\t\t Busy\n",
            "16 \t 5 \t arrival \t 5 \t 16\t-- \t 4 \t\t\t Busy\n",
            "17 \t 6 \t completion \t 1 \t --\t17 \t 3 \t\t\t Busy\n",
            "18 \t 7 \t arrival \t 6 \t 18\t-- \t 4 \t\t\t Busy\n",
            "23 \t 8 \t arrival \t 7 \t 23\t-- \t 5 \t\t\t Busy\n",
            "27 \t 9 \t arrival \t 8 \t 27\t-- \t 6 \t\t\t Busy\n",
            "28 \t 10 \t completion \t 2 \t --\t28 \t 5 \t\t\t Busy\n",
            "30 \t 11 \t arrival \t 9 \t 30\t-- \t 6 \t\t\t Busy\n",
            "33 \t 12 \t arrival \t 10 \t 33\t-- \t 7 \t\t\t Busy\n",
            "45 \t 13 \t completion \t 3 \t --\t45 \t 6 \t\t\t Busy\n",
            "60 \t 14 \t completion \t 4 \t --\t60 \t 5 \t\t\t Busy\n",
            "73 \t 15 \t completion \t 5 \t --\t73 \t 4 \t\t\t Busy\n",
            "86 \t 16 \t completion \t 6 \t --\t86 \t 3 \t\t\t Busy\n",
            "95 \t 17 \t completion \t 7 \t --\t95 \t 2 \t\t\t Busy\n",
            "101 \t 18 \t completion \t 8 \t --\t101 \t 1 \t\t\t Busy\n",
            "113 \t 19 \t completion \t 9 \t --\t113 \t 0 \t\t\t Busy\n",
            "125 \t 20 \t completion \t 10 \t --\t125 \t 0 \t\t\t Idle\n",
            "\n",
            "Simulation End\n",
            "a) The Time-Average number in the sysytem: 4.3\n",
            "b) The Average total time in the system: 57.2\n",
            "c) The Max queue length : 7\n",
            "d) The Max delay in queue: 80\n",
            "e) The Max time in the system: 92\n",
            "f) The proportion of customers having a delay in queue in excess of 1 minute: 4 : 10\n",
            "\n",
            " Simulation : 4\n",
            "Clock \t Event \t Status \t i \t ti \t Ci \tQPopulation \t\t State\n",
            "0 \t 0 \t Start \t\t -- \t --\t-- \t 0 \t\t\t Idle\n",
            "3 \t 1 \t arrival \t 1 \t 3\t-- \t 0 \t\t\t Busy\n",
            "6 \t 2 \t arrival \t 2 \t 6\t-- \t 1 \t\t\t Busy\n",
            "9 \t 3 \t arrival \t 3 \t 9\t-- \t 2 \t\t\t Busy\n",
            "13 \t 4 \t arrival \t 4 \t 13\t-- \t 3 \t\t\t Busy\n",
            "17 \t 5 \t arrival \t 5 \t 17\t-- \t 4 \t\t\t Busy\n",
            "18 \t 6 \t arrival \t 6 \t 18\t-- \t 5 \t\t\t Busy\n",
            "19 \t 7 \t completion \t 1 \t --\t19 \t 4 \t\t\t Busy\n",
            "20 \t 8 \t arrival \t 7 \t 20\t-- \t 5 \t\t\t Busy\n",
            "24 \t 9 \t arrival \t 8 \t 24\t-- \t 6 \t\t\t Busy\n",
            "26 \t 10 \t arrival \t 9 \t 26\t-- \t 7 \t\t\t Busy\n",
            "31 \t 11 \t arrival \t 10 \t 31\t-- \t 8 \t\t\t Busy\n",
            "38 \t 12 \t completion \t 2 \t --\t38 \t 7 \t\t\t Busy\n",
            "46 \t 13 \t completion \t 3 \t --\t46 \t 6 \t\t\t Busy\n",
            "58 \t 14 \t completion \t 4 \t --\t58 \t 5 \t\t\t Busy\n",
            "76 \t 15 \t completion \t 5 \t --\t76 \t 4 \t\t\t Busy\n",
            "84 \t 16 \t completion \t 6 \t --\t84 \t 3 \t\t\t Busy\n",
            "95 \t 17 \t completion \t 7 \t --\t95 \t 2 \t\t\t Busy\n",
            "114 \t 18 \t completion \t 8 \t --\t114 \t 1 \t\t\t Busy\n",
            "123 \t 19 \t completion \t 9 \t --\t123 \t 0 \t\t\t Busy\n",
            "139 \t 20 \t completion \t 10 \t --\t139 \t 0 \t\t\t Idle\n",
            "\n",
            "Simulation End\n",
            "a) The Time-Average number in the sysytem: 4.6\n",
            "b) The Average total time in the system: 62.5\n",
            "c) The Max queue length : 8\n",
            "d) The Max delay in queue: 92\n",
            "e) The Max time in the system: 108\n",
            "f) The proportion of customers having a delay in queue in excess of 1 minute: 4 : 10\n",
            "\n",
            " Simulation : 5\n",
            "Clock \t Event \t Status \t i \t ti \t Ci \tQPopulation \t\t State\n",
            "0 \t 0 \t Start \t\t -- \t --\t-- \t 0 \t\t\t Idle\n",
            "5 \t 1 \t arrival \t 1 \t 5\t-- \t 0 \t\t\t Busy\n",
            "9 \t 2 \t arrival \t 2 \t 9\t-- \t 1 \t\t\t Busy\n",
            "10 \t 3 \t arrival \t 3 \t 10\t-- \t 2 \t\t\t Busy\n",
            "14 \t 4 \t arrival \t 4 \t 14\t-- \t 3 \t\t\t Busy\n",
            "15 \t 5 \t arrival \t 5 \t 15\t-- \t 4 \t\t\t Busy\n",
            "16 \t 6 \t completion \t 1 \t --\t16 \t 3 \t\t\t Busy\n",
            "19 \t 7 \t arrival \t 6 \t 19\t-- \t 4 \t\t\t Busy\n",
            "21 \t 8 \t arrival \t 7 \t 21\t-- \t 5 \t\t\t Busy\n",
            "26 \t 9 \t arrival \t 8 \t 26\t-- \t 6 \t\t\t Busy\n",
            "30 \t 10 \t arrival \t 9 \t 30\t-- \t 7 \t\t\t Busy\n",
            "31 \t 11 \t arrival \t 10 \t 31\t-- \t 8 \t\t\t Busy\n",
            "33 \t 12 \t completion \t 2 \t --\t33 \t 7 \t\t\t Busy\n",
            "45 \t 13 \t completion \t 3 \t --\t45 \t 6 \t\t\t Busy\n",
            "64 \t 14 \t completion \t 4 \t --\t64 \t 5 \t\t\t Busy\n",
            "73 \t 15 \t completion \t 5 \t --\t73 \t 4 \t\t\t Busy\n",
            "79 \t 16 \t completion \t 6 \t --\t79 \t 3 \t\t\t Busy\n",
            "87 \t 17 \t completion \t 7 \t --\t87 \t 2 \t\t\t Busy\n",
            "106 \t 18 \t completion \t 8 \t --\t106 \t 1 \t\t\t Busy\n",
            "117 \t 19 \t completion \t 9 \t --\t117 \t 0 \t\t\t Busy\n",
            "133 \t 20 \t completion \t 10 \t --\t133 \t 0 \t\t\t Idle\n",
            "\n",
            "Simulation End\n",
            "a) The Time-Average number in the sysytem: 4.5\n",
            "b) The Average total time in the system: 57.3\n",
            "c) The Max queue length : 8\n",
            "d) The Max delay in queue: 86\n",
            "e) The Max time in the system: 102\n",
            "f) The proportion of customers having a delay in queue in excess of 1 minute: 3 : 10\n",
            "\n",
            " Simulation : 6\n",
            "Clock \t Event \t Status \t i \t ti \t Ci \tQPopulation \t\t State\n",
            "0 \t 0 \t Start \t\t -- \t --\t-- \t 0 \t\t\t Idle\n",
            "5 \t 1 \t arrival \t 1 \t 5\t-- \t 0 \t\t\t Busy\n",
            "7 \t 2 \t arrival \t 2 \t 7\t-- \t 1 \t\t\t Busy\n",
            "8 \t 3 \t arrival \t 3 \t 8\t-- \t 2 \t\t\t Busy\n",
            "13 \t 4 \t arrival \t 4 \t 13\t-- \t 3 \t\t\t Busy\n",
            "15 \t 5 \t completion \t 1 \t --\t15 \t 2 \t\t\t Busy\n",
            "18 \t 6 \t arrival \t 5 \t 18\t-- \t 3 \t\t\t Busy\n",
            "21 \t 7 \t arrival \t 6 \t 21\t-- \t 4 \t\t\t Busy\n",
            "23 \t 8 \t arrival \t 7 \t 23\t-- \t 5 \t\t\t Busy\n",
            "24 \t 9 \t completion \t 2 \t --\t24 \t 4 \t\t\t Busy\n",
            "28 \t 10 \t arrival \t 8 \t 28\t-- \t 5 \t\t\t Busy\n",
            "30 \t 11 \t completion \t 3 \t --\t30 \t 4 \t\t\t Busy\n",
            "31 \t 12 \t arrival \t 9 \t 31\t-- \t 5 \t\t\t Busy\n",
            "34 \t 13 \t arrival \t 10 \t 34\t-- \t 6 \t\t\t Busy\n",
            "44 \t 14 \t completion \t 4 \t --\t44 \t 5 \t\t\t Busy\n",
            "55 \t 15 \t completion \t 5 \t --\t55 \t 4 \t\t\t Busy\n",
            "66 \t 16 \t completion \t 6 \t --\t66 \t 3 \t\t\t Busy\n",
            "80 \t 17 \t completion \t 7 \t --\t80 \t 2 \t\t\t Busy\n",
            "92 \t 18 \t completion \t 8 \t --\t92 \t 1 \t\t\t Busy\n",
            "107 \t 19 \t completion \t 9 \t --\t107 \t 0 \t\t\t Busy\n",
            "123 \t 20 \t completion \t 10 \t --\t123 \t 0 \t\t\t Idle\n",
            "\n",
            "Simulation End\n",
            "a) The Time-Average number in the sysytem: 3.9\n",
            "b) The Average total time in the system: 44.8\n",
            "c) The Max queue length : 6\n",
            "d) The Max delay in queue: 73\n",
            "e) The Max time in the system: 89\n",
            "f) The proportion of customers having a delay in queue in excess of 1 minute: 2 : 10\n",
            "\n",
            " Simulation : 7\n",
            "Clock \t Event \t Status \t i \t ti \t Ci \tQPopulation \t\t State\n",
            "0 \t 0 \t Start \t\t -- \t --\t-- \t 0 \t\t\t Idle\n",
            "2 \t 1 \t arrival \t 1 \t 2\t-- \t 0 \t\t\t Busy\n",
            "3 \t 2 \t arrival \t 2 \t 3\t-- \t 1 \t\t\t Busy\n",
            "4 \t 3 \t arrival \t 3 \t 4\t-- \t 2 \t\t\t Busy\n",
            "5 \t 4 \t arrival \t 4 \t 5\t-- \t 3 \t\t\t Busy\n",
            "7 \t 5 \t arrival \t 5 \t 7\t-- \t 4 \t\t\t Busy\n",
            "9 \t 6 \t arrival \t 6 \t 9\t-- \t 5 \t\t\t Busy\n",
            "10 \t 7 \t arrival \t 7 \t 10\t-- \t 6 \t\t\t Busy\n",
            "14 \t 8 \t arrival \t 8 \t 14\t-- \t 7 \t\t\t Busy\n",
            "16 \t 9 \t arrival \t 9 \t 16\t-- \t 8 \t\t\t Busy\n",
            "18 \t 10 \t arrival \t 10 \t 18\t-- \t 9 \t\t\t Busy\n",
            "20 \t 11 \t completion \t 1 \t --\t20 \t 8 \t\t\t Busy\n",
            "38 \t 12 \t completion \t 2 \t --\t38 \t 7 \t\t\t Busy\n",
            "52 \t 13 \t completion \t 3 \t --\t52 \t 6 \t\t\t Busy\n",
            "66 \t 14 \t completion \t 4 \t --\t66 \t 5 \t\t\t Busy\n",
            "86 \t 15 \t completion \t 5 \t --\t86 \t 4 \t\t\t Busy\n",
            "105 \t 16 \t completion \t 6 \t --\t105 \t 3 \t\t\t Busy\n",
            "118 \t 17 \t completion \t 7 \t --\t118 \t 2 \t\t\t Busy\n",
            "130 \t 18 \t completion \t 8 \t --\t130 \t 1 \t\t\t Busy\n",
            "146 \t 19 \t completion \t 9 \t --\t146 \t 0 \t\t\t Busy\n",
            "166 \t 20 \t completion \t 10 \t --\t166 \t 0 \t\t\t Idle\n",
            "\n",
            "Simulation End\n",
            "a) The Time-Average number in the sysytem: 5.0\n",
            "b) The Average total time in the system: 83.9\n",
            "c) The Max queue length : 9\n",
            "d) The Max delay in queue: 128\n",
            "e) The Max time in the system: 148\n",
            "f) The proportion of customers having a delay in queue in excess of 1 minute: 5 : 10\n",
            "\n",
            " Simulation : 8\n",
            "Clock \t Event \t Status \t i \t ti \t Ci \tQPopulation \t\t State\n",
            "0 \t 0 \t Start \t\t -- \t --\t-- \t 0 \t\t\t Idle\n",
            "5 \t 1 \t arrival \t 1 \t 5\t-- \t 0 \t\t\t Busy\n",
            "9 \t 2 \t arrival \t 2 \t 9\t-- \t 1 \t\t\t Busy\n",
            "12 \t 3 \t completion \t 1 \t --\t12 \t 0 \t\t\t Busy\n",
            "14 \t 4 \t arrival \t 3 \t 14\t-- \t 1 \t\t\t Busy\n",
            "17 \t 5 \t arrival \t 4 \t 17\t-- \t 2 \t\t\t Busy\n",
            "18 \t 6 \t arrival \t 5 \t 18\t-- \t 3 \t\t\t Busy\n",
            "23 \t 7 \t arrival \t 6 \t 23\t-- \t 4 \t\t\t Busy\n",
            "24 \t 8 \t completion \t 2 \t --\t24 \t 3 \t\t\t Busy\n",
            "25 \t 9 \t arrival \t 7 \t 25\t-- \t 4 \t\t\t Busy\n",
            "29 \t 10 \t arrival \t 8 \t 29\t-- \t 5 \t\t\t Busy\n",
            "30 \t 11 \t arrival \t 9 \t 30\t-- \t 6 \t\t\t Busy\n",
            "35 \t 12 \t arrival \t 10 \t 35\t-- \t 7 \t\t\t Busy\n",
            "35 \t 13 \t completion \t 3 \t --\t35 \t 6 \t\t\t Busy\n",
            "50 \t 14 \t completion \t 4 \t --\t50 \t 5 \t\t\t Busy\n",
            "62 \t 15 \t completion \t 5 \t --\t62 \t 4 \t\t\t Busy\n",
            "71 \t 16 \t completion \t 6 \t --\t71 \t 3 \t\t\t Busy\n",
            "83 \t 17 \t completion \t 7 \t --\t83 \t 2 \t\t\t Busy\n",
            "89 \t 18 \t completion \t 8 \t --\t89 \t 1 \t\t\t Busy\n",
            "104 \t 19 \t completion \t 9 \t --\t104 \t 0 \t\t\t Busy\n",
            "124 \t 20 \t completion \t 10 \t --\t124 \t 0 \t\t\t Idle\n",
            "\n",
            "Simulation End\n",
            "a) The Time-Average number in the sysytem: 3.8\n",
            "b) The Average total time in the system: 44.9\n",
            "c) The Max queue length : 6\n",
            "d) The Max delay in queue: 69\n",
            "e) The Max time in the system: 89\n",
            "f) The proportion of customers having a delay in queue in excess of 1 minute: 1 : 10\n",
            "\n",
            " Simulation : 9\n",
            "Clock \t Event \t Status \t i \t ti \t Ci \tQPopulation \t\t State\n",
            "0 \t 0 \t Start \t\t -- \t --\t-- \t 0 \t\t\t Idle\n",
            "4 \t 1 \t arrival \t 1 \t 4\t-- \t 0 \t\t\t Busy\n",
            "9 \t 2 \t arrival \t 2 \t 9\t-- \t 1 \t\t\t Busy\n",
            "11 \t 3 \t arrival \t 3 \t 11\t-- \t 2 \t\t\t Busy\n",
            "15 \t 4 \t arrival \t 4 \t 15\t-- \t 3 \t\t\t Busy\n",
            "19 \t 5 \t arrival \t 5 \t 19\t-- \t 4 \t\t\t Busy\n",
            "21 \t 6 \t arrival \t 6 \t 21\t-- \t 5 \t\t\t Busy\n",
            "22 \t 7 \t arrival \t 7 \t 22\t-- \t 6 \t\t\t Busy\n",
            "23 \t 8 \t arrival \t 8 \t 23\t-- \t 7 \t\t\t Busy\n",
            "24 \t 9 \t completion \t 1 \t --\t24 \t 6 \t\t\t Busy\n",
            "27 \t 10 \t arrival \t 9 \t 27\t-- \t 7 \t\t\t Busy\n",
            "28 \t 11 \t arrival \t 10 \t 28\t-- \t 8 \t\t\t Busy\n",
            "32 \t 12 \t completion \t 2 \t --\t32 \t 7 \t\t\t Busy\n",
            "38 \t 13 \t completion \t 3 \t --\t38 \t 6 \t\t\t Busy\n",
            "51 \t 14 \t completion \t 4 \t --\t51 \t 5 \t\t\t Busy\n",
            "66 \t 15 \t completion \t 5 \t --\t66 \t 4 \t\t\t Busy\n",
            "85 \t 16 \t completion \t 6 \t --\t85 \t 3 \t\t\t Busy\n",
            "101 \t 17 \t completion \t 7 \t --\t101 \t 2 \t\t\t Busy\n",
            "116 \t 18 \t completion \t 8 \t --\t116 \t 1 \t\t\t Busy\n",
            "130 \t 19 \t completion \t 9 \t --\t130 \t 0 \t\t\t Busy\n",
            "146 \t 20 \t completion \t 10 \t --\t146 \t 0 \t\t\t Idle\n",
            "\n",
            "Simulation End\n",
            "a) The Time-Average number in the sysytem: 4.8\n",
            "b) The Average total time in the system: 61.0\n",
            "c) The Max queue length : 8\n",
            "d) The Max delay in queue: 102\n",
            "e) The Max time in the system: 118\n",
            "f) The proportion of customers having a delay in queue in excess of 1 minute: 4 : 10\n",
            "\n",
            " Simulation : 10\n",
            "Clock \t Event \t Status \t i \t ti \t Ci \tQPopulation \t\t State\n",
            "0 \t 0 \t Start \t\t -- \t --\t-- \t 0 \t\t\t Idle\n",
            "3 \t 1 \t arrival \t 1 \t 3\t-- \t 0 \t\t\t Busy\n",
            "4 \t 2 \t arrival \t 2 \t 4\t-- \t 1 \t\t\t Busy\n",
            "7 \t 3 \t arrival \t 3 \t 7\t-- \t 2 \t\t\t Busy\n",
            "8 \t 4 \t arrival \t 4 \t 8\t-- \t 3 \t\t\t Busy\n",
            "12 \t 5 \t arrival \t 5 \t 12\t-- \t 4 \t\t\t Busy\n",
            "13 \t 6 \t arrival \t 6 \t 13\t-- \t 5 \t\t\t Busy\n",
            "14 \t 7 \t arrival \t 7 \t 14\t-- \t 6 \t\t\t Busy\n",
            "16 \t 8 \t arrival \t 8 \t 16\t-- \t 7 \t\t\t Busy\n",
            "20 \t 9 \t arrival \t 9 \t 20\t-- \t 8 \t\t\t Busy\n",
            "21 \t 10 \t arrival \t 10 \t 21\t-- \t 9 \t\t\t Busy\n",
            "21 \t 11 \t completion \t 1 \t --\t21 \t 8 \t\t\t Busy\n",
            "33 \t 12 \t completion \t 2 \t --\t33 \t 7 \t\t\t Busy\n",
            "52 \t 13 \t completion \t 3 \t --\t52 \t 6 \t\t\t Busy\n",
            "60 \t 14 \t completion \t 4 \t --\t60 \t 5 \t\t\t Busy\n",
            "75 \t 15 \t completion \t 5 \t --\t75 \t 4 \t\t\t Busy\n",
            "90 \t 16 \t completion \t 6 \t --\t90 \t 3 \t\t\t Busy\n",
            "107 \t 17 \t completion \t 7 \t --\t107 \t 2 \t\t\t Busy\n",
            "120 \t 18 \t completion \t 8 \t --\t120 \t 1 \t\t\t Busy\n",
            "140 \t 19 \t completion \t 9 \t --\t140 \t 0 \t\t\t Busy\n",
            "158 \t 20 \t completion \t 10 \t --\t158 \t 0 \t\t\t Idle\n",
            "\n",
            "Simulation End\n",
            "a) The Time-Average number in the sysytem: 5.0\n",
            "b) The Average total time in the system: 73.8\n",
            "c) The Max queue length : 8\n",
            "d) The Max delay in queue: 119\n",
            "e) The Max time in the system: 137\n",
            "f) The proportion of customers having a delay in queue in excess of 1 minute: 5 : 10\n"
          ],
          "name": "stdout"
        }
      ]
    },
    {
      "cell_type": "code",
      "metadata": {
        "id": "IUM8I5YFvTow"
      },
      "source": [
        ""
      ],
      "execution_count": null,
      "outputs": []
    }
  ]
}