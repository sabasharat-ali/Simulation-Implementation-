{
  "nbformat": 4,
  "nbformat_minor": 0,
  "metadata": {
    "colab": {
      "name": "Queueing1.11",
      "provenance": [],
      "collapsed_sections": [
        "jA0DpyhiETnQ"
      ]
    },
    "kernelspec": {
      "name": "python3",
      "display_name": "Python 3"
    }
  },
  "cells": [
    {
      "cell_type": "markdown",
      "metadata": {
        "id": "S_o_tBVbDsoY"
      },
      "source": [
        "# Single Server Quying System\n",
        "## Problem 1.11"
      ]
    },
    {
      "cell_type": "markdown",
      "metadata": {
        "id": "jA0DpyhiETnQ"
      },
      "source": [
        "### Overall Project Architecture\n",
        "\n",
        "> ### Coding Paradigm\n",
        ">- [ ] OOP\n",
        "- [x] Functional\n",
        "- [ ] Scripting\n",
        "\n",
        "> ### Unit of time\n",
        ">- [X] Minutes\n",
        "\n",
        "> ### State of the server will be validated using boolean values\n",
        "\n",
        "> ### Randomness will be achieved using psedou random generator first and will be proceeded by adding the last generated randomnunmber to the curently generated number.\n",
        "\n",
        "> ### Values to be noted\n",
        ">- [x] Arrival Time = $t_{i}$ \n",
        "- [x] Inter arrival time = $A_{i}$ = $t_{i} - t_{i-1}$\n",
        "- [x] Waiting in queue = $W_{i}$ = \n",
        "- [x] Service time = $S_{i}$ = \n",
        "- [x] Completion(Departure) Time =  $D_{i}$ = \n",
        "\n",
        "### For the main code and 1.7 we'll not terminate the simulation until queue overflows or all customers has been served."
      ]
    },
    {
      "cell_type": "markdown",
      "metadata": {
        "id": "6Zz6jkEANbn-"
      },
      "source": [
        "### All Imports"
      ]
    },
    {
      "cell_type": "code",
      "metadata": {
        "id": "bt9WHRo2EDHA"
      },
      "source": [
        "import random\n",
        "from time import sleep"
      ],
      "execution_count": null,
      "outputs": []
    },
    {
      "cell_type": "markdown",
      "metadata": {
        "id": "s6xWTZp3WjCH"
      },
      "source": [
        "### Generating Arrival and Service Time, $t_{i}$ , $S_{i}$ "
      ]
    },
    {
      "cell_type": "code",
      "metadata": {
        "id": "7jFaKpfDNeF8"
      },
      "source": [
        "def generateArrivalAndServiceTime():\n",
        "    global arrivalTime,serviceTime\n",
        "    i = 0\n",
        "    # for i in range(0,10): part of original code\n",
        "    while True:\n",
        "        if i : \n",
        "            arrivalTimeTemp = random.randint(600,1800) + arrivalTime[i-1]\n",
        "            if arrivalTimeTemp >28800:\n",
        "                break\n",
        "        else: \n",
        "            arrivalTimeTemp = random.randint(600,1800)\n",
        "        # serviceTimeTemp = random.randint(6,10) part of original code\n",
        "        serviceTimeTemp = random.randint(1801,2200)\n",
        "\n",
        "        arrivalTime.append(arrivalTimeTemp)\n",
        "        serviceTime.append(serviceTimeTemp)\n",
        "        i+=1"
      ],
      "execution_count": null,
      "outputs": []
    },
    {
      "cell_type": "markdown",
      "metadata": {
        "id": "tjPDldaIPfdL"
      },
      "source": [
        "### Calculating Inter Arrival Time $A_{i}$"
      ]
    },
    {
      "cell_type": "code",
      "metadata": {
        "id": "QG27oLilN-dW"
      },
      "source": [
        "def calculateInterArrivalTime():\n",
        "    global arrivalTime\n",
        "    for i in range(len(arrivalTime)):\n",
        "        if i:\n",
        "            temp = arrivalTime[i] - arrivalTime[i-1] \n",
        "        else:\n",
        "            temp = arrivalTime[i]\n",
        "        # print(\"Inter Arrival time for \" +str(i+1) +\" event: \" + str(temp))"
      ],
      "execution_count": null,
      "outputs": []
    },
    {
      "cell_type": "markdown",
      "metadata": {
        "id": "70jTUqqlia9t"
      },
      "source": [
        "### Calculating Waiting Time"
      ]
    },
    {
      "cell_type": "code",
      "metadata": {
        "id": "qm57vgkmioig"
      },
      "source": [
        "def calculateWaitingTime(i):\n",
        "    # global queue\n",
        "    global waitingTime,serverIsBusy,completionTime,arrivalTime\n",
        "\n",
        "    if serverIsBusy:\n",
        "        waitingTime.append(completionTime[i-1]-arrivalTime[i])\n",
        "        \n",
        "    else:\n",
        "        waitingTime.append(0)\n",
        "        serverIsBusy=True"
      ],
      "execution_count": null,
      "outputs": []
    },
    {
      "cell_type": "markdown",
      "metadata": {
        "id": "4adUpjtOiffa"
      },
      "source": [
        "### Calculating Completion Time"
      ]
    },
    {
      "cell_type": "code",
      "metadata": {
        "id": "NPLRd-NHiuid"
      },
      "source": [
        "def calculateCompletionTime(i):\n",
        "    global completionTime,waitingTime,arrivalTime\n",
        "\n",
        "    completionTime.append(arrivalTime[i]+serviceTime[i]+waitingTime[i])\n",
        "    # printEventDetails(i)\n",
        "    # print(str(completionTime[i])+\" , completion time\\n\")"
      ],
      "execution_count": null,
      "outputs": []
    },
    {
      "cell_type": "markdown",
      "metadata": {
        "id": "tv-PtAVB3u0H"
      },
      "source": [
        "## Print Details"
      ]
    },
    {
      "cell_type": "code",
      "metadata": {
        "id": "MN3oD6zx34Ya"
      },
      "source": [
        "def printEventDetails(i):\n",
        "    global arrivalTime,serviceTime,waitingTime,completionTime\n",
        "    print(\"\\nArrival Time:\" + str(arrivalTime[i]) +\"\\n Service Time: \" + str(serviceTime[i]) +\"\\n Waiting Time:\" +str(waitingTime[i])+\"\\nCompletion time: \" +str(completionTime[i]))\n"
      ],
      "execution_count": null,
      "outputs": []
    },
    {
      "cell_type": "markdown",
      "metadata": {
        "id": "i7C7RNDs1gsE"
      },
      "source": [
        "## Calculations"
      ]
    },
    {
      "cell_type": "code",
      "metadata": {
        "id": "fZ2iDsAH1vga"
      },
      "source": [
        "def Calculations():\n",
        "    global serverIsBusy,arrivalTime,serviceTime,waitingTime,completionTime\n",
        "    generateArrivalAndServiceTime()\n",
        "    \n",
        "    calculateInterArrivalTime()\n",
        "    for i in range(len(arrivalTime)):\n",
        "        calculateWaitingTime(i)\n",
        "        calculateCompletionTime(i)\n",
        "    serverIsBusy=False  "
      ],
      "execution_count": null,
      "outputs": []
    },
    {
      "cell_type": "markdown",
      "metadata": {
        "id": "vj6aJFgVxC1x"
      },
      "source": [
        ""
      ]
    },
    {
      "cell_type": "markdown",
      "metadata": {
        "id": "qH-_wf0U9JGP"
      },
      "source": [
        "# Simulation"
      ]
    },
    {
      "cell_type": "code",
      "metadata": {
        "id": "6WpisICL9OtD"
      },
      "source": [
        "def simulateSingleServerQueuingSystem():\n",
        "\n",
        "    global completionTime,arrivalTime,clock,queue,event,serverIsBusy,custInQueue,timeAvgNumInSys,avgTtlTimeInSys\n",
        "    global maxQueueLen, waitingTime\n",
        "    balkCust=0\n",
        "    currentArrival=0\n",
        "    inServer = 1\n",
        "    print(\"Clock \\t Event \\t Status \\t i \\t ti \\t Ci \\tQPopulation \\t\\t State\")\n",
        "    print(str(0)+\" \\t \"+str(0)+\" \\t \"+\"Start\"+\" \\t\\t \"+\"--\"+\" \\t \"+\"--\"+\"\\t\"+\"--\"+\" \\t \"+str(0)+\" \\t\\t\\t \"+\"Idle\")\n",
        "\n",
        "    # while clock is not 60 and queue <= 10: part of original code\n",
        "    # while queue <= 10: part of original code\n",
        "    while True:\n",
        "\n",
        "        sleep(0.001) # Change the value later on\n",
        "\n",
        "        if maxQueueLen<queue: maxQueueLen=queue\n",
        "\n",
        "        if clock in completionTime:\n",
        "            custInQueue+=queue # calculating summation of customers in queue.\n",
        "            event+=1\n",
        "            if queue ==0:\n",
        "                serverIsBusy = False\n",
        "                generateReport(\"completion\",inServer-1)  \n",
        "                break\n",
        "\n",
        "            else:\n",
        "                queue-=1\n",
        "                generateReport(\"completion\",inServer-1)  \n",
        "                inServer +=1\n",
        "\n",
        "        if clock in arrivalTime:\n",
        "            custInQueue+=queue # calculating summation of customers in queue.\n",
        "            event+=1\n",
        "            currentArrival+=1\n",
        "            if serverIsBusy == False:\n",
        "                serverIsBusy=True\n",
        "            else:\n",
        "                if queue < 2:\n",
        "                    queue+=1\n",
        "                else:\n",
        "                    balkCust+=1\n",
        "                    print(str(clock)+\" \\t balk\")\n",
        "                    clock+=1\n",
        "                    continue\n",
        "\n",
        "            generateReport(\"arrival\",currentArrival-1)\n",
        "        \n",
        "        # if clock in completionTime:\n",
        "        #     custInQueue+=queue # calculating summation of customers in queue.\n",
        "        #     event+=1\n",
        "        #     if queue ==0:\n",
        "        #         serverIsBusy = False\n",
        "        #         generateReport(\"completion\",inServer-1)  \n",
        "        #         break\n",
        "\n",
        "        #     else:\n",
        "        #         queue-=1\n",
        "        #         generateReport(\"completion\",inServer-1)  \n",
        "        #         inServer +=1\n",
        "\n",
        "        clock+=1\n",
        "    print(\"\\nSimulation End\") if queue != 11 else print(\"Error: Queue is full\") \n",
        "\n",
        "    calculationsFor1Dot7(custInQueue,event,completionTime,arrivalTime,maxQueueLen,waitingTime)\n",
        "    print(\"Number of balking customers: \"+str(balkCust))\n"
      ],
      "execution_count": null,
      "outputs": []
    },
    {
      "cell_type": "markdown",
      "metadata": {
        "id": "qLSKtkJh2Dmh"
      },
      "source": [
        "# Calculations For 1.7"
      ]
    },
    {
      "cell_type": "code",
      "metadata": {
        "id": "3Mty-awv2IGu"
      },
      "source": [
        "def calculationsFor1Dot7(custInQueue,event,completionTime,arrivalTime,maxQueueLen,waitingTime):\n",
        "    timeAvgNumInSys = (custInQueue+(event-1))/event#                            part a 1.7             \n",
        "    avgTtlTimeInSys = (sum(completionTime)-sum(arrivalTime))/len(arrivalTime)#  part b 1.7\n",
        "    print(\"a) The Time-Average number in the sysytem: \"+str(timeAvgNumInSys))\n",
        "    print(\"b) The Average total time in the system: \"+str(avgTtlTimeInSys))\n",
        "    print(\"c) The Max queue length : \"+str(maxQueueLen))#                       part c 1.7                        \n",
        "    print(\"d) The Max delay in queue: \"+str(max(waitingTime)))#                 part d 1.7\n",
        "    #********** calculation for                                                 part e 1.7\n",
        "    tmpLstHldngDiffOfCmpNdArvlTm = []\n",
        "    for i in range(len(arrivalTime)):\n",
        "        tmpLstHldngDiffOfCmpNdArvlTm.append(completionTime[i]-arrivalTime[i])\n",
        "    print(\"e) The Max time in the system: \"+str(max(tmpLstHldngDiffOfCmpNdArvlTm)))\n",
        "    #**********                                                            end  part e 1.7\n",
        "    #********** calculation for \n",
        "    countForExWaiters=0#                                                         part f 1.7\n",
        "    for waiter in waitingTime:\n",
        "        if waiter>60:\n",
        "            countForExWaiters+=1\n",
        "    print(\"f) The proportion of customers having a delay in queue in excess of 1 minute: \"+str(countForExWaiters)+\" : \"+str(len(arrivalTime)))\n",
        "    #********** calculation for                                              end    part f 1.7\n",
        "\n"
      ],
      "execution_count": null,
      "outputs": []
    },
    {
      "cell_type": "markdown",
      "metadata": {
        "id": "luwv49Em93zh"
      },
      "source": [
        "# Report Generation"
      ]
    },
    {
      "cell_type": "code",
      "metadata": {
        "id": "n3JoZJQN97rq"
      },
      "source": [
        "def generateReport(status,i):\n",
        "    global event,clock,arrivalTime,completionTime,queue,serverIsBusy\n",
        "    if status==\"arrival\":\n",
        "        print(str(clock)+\" \\t \"+str(event)+\" \\t \"+str(status)+\" \\t \"+str(i+1)+\" \\t \"+str(arrivalTime[i])+\"\\t\"+\"--\"+\" \\t \"+str(queue)+\" \\t\\t\\t \"+str(\"Busy\" if serverIsBusy else \"Idle\"))\n",
        "\n",
        "    else:\n",
        "        print(str(clock)+\" \\t \"+str(event)+\" \\t \"+str(status)+\" \\t \"+str(i+1)+\" \\t \"+\"--\\t\"+str(completionTime[i])+\" \\t \"+str(queue)+\" \\t\\t\\t \"+str(\"Busy\" if serverIsBusy else \"Idle\"))\n",
        "\n",
        "    # Clock Event Status i ti Ci QueuePopulation state\n",
        "\n",
        "    pass"
      ],
      "execution_count": null,
      "outputs": []
    },
    {
      "cell_type": "markdown",
      "metadata": {
        "id": "cvnWryL9WYhv"
      },
      "source": [
        "## Main Execution"
      ]
    },
    {
      "cell_type": "code",
      "metadata": {
        "id": "QRehhhVORmmW",
        "colab": {
          "base_uri": "https://localhost:8080/"
        },
        "outputId": "668f09d0-7736-4825-b62e-ac46d2cd5bdf"
      },
      "source": [
        "if __name__ == \"__main__\":\n",
        "    arrivalTime=[]                  #\n",
        "    serviceTime=[]                  #\n",
        "    serverIsBusy = False            #   GLOBAL VARIABLES\n",
        "    waitingTime=[]                  #\n",
        "    completionTime=[]               #\n",
        "    Calculations()\n",
        "\n",
        "    clock = 0\n",
        "    queue = 0 #count of waiting entities\n",
        "    event = 0\n",
        "\n",
        "    custInQueue = 0 # ,                                                         part a                                      \n",
        "    timeAvgNumInSys = 0 # (custInQueue + event -1)/event                        part a\n",
        "    avgTtlTimeInSys = 0 #  sum(Ci-Ti)/num                                       part b\n",
        "    maxQueueLen = 0#                                                            part c\n",
        "    \n",
        "\n",
        "\n",
        "    simulateSingleServerQueuingSystem()\n",
        "\n",
        "    # ====================== Simulation End ===================="
      ],
      "execution_count": null,
      "outputs": [
        {
          "output_type": "stream",
          "text": [
            "Clock \t Event \t Status \t i \t ti \t Ci \tQPopulation \t\t State\n",
            "0 \t 0 \t Start \t\t -- \t --\t-- \t 0 \t\t\t Idle\n",
            "1545 \t 1 \t arrival \t 1 \t 1545\t-- \t 0 \t\t\t Busy\n",
            "2278 \t 2 \t arrival \t 2 \t 2278\t-- \t 1 \t\t\t Busy\n",
            "3158 \t 3 \t arrival \t 3 \t 3158\t-- \t 2 \t\t\t Busy\n",
            "3609 \t 4 \t completion \t 1 \t --\t3609 \t 1 \t\t\t Busy\n",
            "4481 \t 5 \t arrival \t 4 \t 4481\t-- \t 2 \t\t\t Busy\n",
            "5611 \t 6 \t completion \t 2 \t --\t5611 \t 1 \t\t\t Busy\n",
            "5739 \t 7 \t arrival \t 5 \t 5739\t-- \t 2 \t\t\t Busy\n",
            "7152 \t balk\n",
            "7554 \t 9 \t completion \t 3 \t --\t7554 \t 1 \t\t\t Busy\n",
            "8725 \t 10 \t arrival \t 7 \t 8725\t-- \t 2 \t\t\t Busy\n",
            "9539 \t 11 \t completion \t 4 \t --\t9539 \t 1 \t\t\t Busy\n",
            "10029 \t 12 \t arrival \t 8 \t 10029\t-- \t 2 \t\t\t Busy\n",
            "11474 \t balk\n",
            "11520 \t 14 \t completion \t 5 \t --\t11520 \t 1 \t\t\t Busy\n",
            "13266 \t 15 \t arrival \t 10 \t 13266\t-- \t 2 \t\t\t Busy\n",
            "13682 \t 16 \t completion \t 6 \t --\t13682 \t 1 \t\t\t Busy\n",
            "14305 \t 17 \t arrival \t 11 \t 14305\t-- \t 2 \t\t\t Busy\n",
            "15439 \t balk\n",
            "15776 \t 19 \t completion \t 7 \t --\t15776 \t 1 \t\t\t Busy\n",
            "17216 \t 20 \t arrival \t 13 \t 17216\t-- \t 2 \t\t\t Busy\n",
            "17772 \t 21 \t completion \t 8 \t --\t17772 \t 1 \t\t\t Busy\n",
            "17927 \t 22 \t arrival \t 14 \t 17927\t-- \t 2 \t\t\t Busy\n",
            "19556 \t balk\n",
            "19885 \t 24 \t completion \t 9 \t --\t19885 \t 1 \t\t\t Busy\n",
            "20309 \t 25 \t arrival \t 16 \t 20309\t-- \t 2 \t\t\t Busy\n",
            "21591 \t balk\n",
            "21798 \t 27 \t completion \t 10 \t --\t21798 \t 1 \t\t\t Busy\n",
            "22899 \t 28 \t arrival \t 18 \t 22899\t-- \t 2 \t\t\t Busy\n",
            "23942 \t 29 \t completion \t 11 \t --\t23942 \t 1 \t\t\t Busy\n",
            "24503 \t 30 \t arrival \t 19 \t 24503\t-- \t 2 \t\t\t Busy\n",
            "25899 \t 31 \t completion \t 12 \t --\t25899 \t 1 \t\t\t Busy\n",
            "26031 \t 32 \t arrival \t 20 \t 26031\t-- \t 2 \t\t\t Busy\n",
            "27507 \t balk\n",
            "27768 \t 34 \t completion \t 13 \t --\t27768 \t 1 \t\t\t Busy\n",
            "29821 \t 35 \t completion \t 14 \t --\t29821 \t 0 \t\t\t Busy\n",
            "31886 \t 36 \t completion \t 15 \t --\t31886 \t 0 \t\t\t Idle\n",
            "\n",
            "Simulation End\n",
            "a) The Time-Average number in the sysytem: 2.4166666666666665\n",
            "b) The Average total time in the system: 9738.809523809523\n",
            "c) The Max queue length : 2\n",
            "d) The Max delay in queue: 14442\n",
            "e) The Max time in the system: 16332\n",
            "f) The proportion of customers having a delay in queue in excess of 1 minute: 20 : 21\n",
            "Number of balking customers: 6\n"
          ],
          "name": "stdout"
        }
      ]
    },
    {
      "cell_type": "code",
      "metadata": {
        "id": "XK1hXY3Im3pc"
      },
      "source": [
        ""
      ],
      "execution_count": null,
      "outputs": []
    }
  ]
}